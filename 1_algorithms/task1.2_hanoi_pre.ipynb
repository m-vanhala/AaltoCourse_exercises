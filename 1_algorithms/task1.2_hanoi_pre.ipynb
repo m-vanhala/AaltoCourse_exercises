{
  "cells": [
    {
      "cell_type": "markdown",
      "id": "100d2b05",
      "metadata": {},
      "source": [
        "# Task 1.2 Towers of Hanoi\n",
        "\n",
        "1. Implement the algorithm in the lecture notes\n",
        "2. Produce the solution for 3, 5 and 7 disks\n",
        "3. [optional] What is the general formula for the number of steps needed to solve the puzzle with $n$ disks?"
      ]
    },
    {
      "cell_type": "code",
      "execution_count": 24,
      "id": "ea0e6dd4",
      "metadata": {},
      "outputs": [
        {
          "name": "stdout",
          "output_type": "stream",
          "text": [
            "Move disk from A to B\n",
            "Move disk from A to C\n",
            "Move disk from B to C\n",
            "Move disk from A to B\n",
            "Move disk from C to A\n",
            "Move disk from C to B\n",
            "Move disk from A to B\n",
            "Move disk from A to C\n",
            "Move disk from B to C\n",
            "Move disk from B to A\n",
            "Move disk from C to A\n",
            "Move disk from B to C\n",
            "Move disk from A to B\n",
            "Move disk from A to C\n",
            "Move disk from B to C\n"
          ]
        }
      ],
      "source": [
        "def move(frm,to):\n",
        "  \"\"\"Print the move from one peg to another.\"\"\"\n",
        "  print(f\"Move disk from {frm} to {to}\")\n",
        "\n",
        "def move_via(frm,via,to):\n",
        "  \"\"\"Move via an auxiliary peg.\"\"\"\n",
        "  move(frm,via)\n",
        "  move(via,to)\n",
        "\n",
        "def hanoi_solver(n: int,source,via,target):\n",
        "  \"\"\"Print the moves to solve Tower of Hanoi with n disks.\"\"\"\n",
        "  if n==0:\n",
        "    pass\n",
        "  if n==1:\n",
        "    move(source,target)\n",
        "  if n>1:\n",
        "    hanoi_solver(n-1,source,target,via)\n",
        "    move(source,target)\n",
        "    hanoi_solver(n-1,via,source,target)\n",
        "\n",
        "\n",
        "hanoi_solver(4,'A','B','C')"
      ]
    }
  ],
  "metadata": {
    "kernelspec": {
      "display_name": "base",
      "language": "python",
      "name": "python3"
    },
    "language_info": {
      "codemirror_mode": {
        "name": "ipython",
        "version": 3
      },
      "file_extension": ".py",
      "mimetype": "text/x-python",
      "name": "python",
      "nbconvert_exporter": "python",
      "pygments_lexer": "ipython3",
      "version": "3.11.4"
    }
  },
  "nbformat": 4,
  "nbformat_minor": 5
}
