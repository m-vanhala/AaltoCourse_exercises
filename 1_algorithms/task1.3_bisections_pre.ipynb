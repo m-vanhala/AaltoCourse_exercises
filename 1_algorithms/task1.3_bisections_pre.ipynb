{
  "cells": [
    {
      "cell_type": "markdown",
      "metadata": {
        "slideshow": {
          "slide_type": "slide"
        }
      },
      "source": [
        "# Task 1.3 Bisections method\n",
        "\n",
        "1. Implement the bisection method for finding roots of a continuous function\n",
        "2. Run the example to demonstrate the work of the algorithm\n",
        "3. Using the callback feature, display the relative errors on each iteration"
      ]
    },
    {
      "cell_type": "code",
      "execution_count": null,
      "metadata": {
        "hide-output": false,
        "slideshow": {
          "slide_type": "slide"
        }
      },
      "outputs": [],
      "source": [
        "def bisection(f, a=0, b=1, tol=1e-6, maxiter=100, callback=None):\n",
        "  '''Bisection method for solving equation f(x)=0\n",
        "  on the interval [a,b], with given tolerance and number of iterations.\n",
        "  Callback function is invoked at each iteration if given.\n",
        "  '''\n",
        "  assert f(a)* f(b) < 0 # ensure that the signs at the endpoints are different\n",
        "  guess = (a + b) / 2\n",
        "  err = abs(f(guess))\n",
        "  while err > tol and maxiter > 0:\n",
        "    maxiter -= 1\n",
        "    if f(a) * f(guess) < 0:\n",
        "      b = guess\n",
        "    else:\n",
        "      a = guess\n",
        "    guess = (a + b) / 2\n",
        "    err = abs(f(guess))\n",
        "    if callback != None:\n",
        "      callback(err=err, x=guess, iter=maxiter)\n",
        "  return guess"
      ]
    },
    {
      "cell_type": "code",
      "execution_count": 5,
      "metadata": {
        "hide-output": false,
        "slideshow": {
          "slide_type": "slide"
        }
      },
      "outputs": [
        {
          "name": "stdout",
          "output_type": "stream",
          "text": [
            "Solution is x=-1.000, f(x)=0.000000834465\n"
          ]
        }
      ],
      "source": [
        "f = lambda x: -4*x**3+5*x+1\n",
        "a,b = -3,-.5  # upper and lower limits\n",
        "x = bisection(f,a,b)\n",
        "print('Solution is x=%1.3f, f(x)=%1.12f' % (x,f(x)))"
      ]
    },
    {
      "cell_type": "markdown",
      "metadata": {
        "slideshow": {
          "slide_type": "slide"
        }
      },
      "source": [
        "## Rate of convergence\n",
        "\n",
        "- How fast does a solution method converge on the root of the equation?  \n",
        "- Rate of convergence = the rate of decrease of the bias (difference between current guess and the solution)  \n",
        "- Can be approximated by the rate of decrease of the error in the stopping criterion  "
      ]
    },
    {
      "cell_type": "code",
      "execution_count": 6,
      "metadata": {
        "hide-output": false,
        "slideshow": {
          "slide_type": "slide"
        }
      },
      "outputs": [
        {
          "name": "stdout",
          "output_type": "stream",
          "text": [
            "Bisection method\n",
            "  99:  x = -1.12500000000000  err = 1.070312e+00\n",
            "  98:  x = -0.81250000000000  err = 9.169922e-01\n",
            "  97:  x = -0.96875000000000  err = 2.071533e-01\n",
            "  96:  x = -1.04687500000000  err = 3.549042e-01\n",
            "  95:  x = -1.00781250000000  err = 5.542183e-02\n",
            "  94:  x = -0.98828125000000  err = 8.038974e-02\n",
            "  93:  x = -0.99804687500000  err = 1.362613e-02\n",
            "  92:  x = -1.00292968750000  err = 2.061091e-02\n",
            "  91:  x = -1.00048828125000  err = 3.420830e-03\n",
            "  90:  x = -0.99926757812500  err = 5.120517e-03\n",
            "  89:  x = -0.99987792968750  err = 8.543134e-04\n",
            "  88:  x = -1.00018310546875  err = 1.282141e-03\n",
            "  87:  x = -1.00003051757812  err = 2.136342e-04\n",
            "  86:  x = -0.99995422363281  err = 3.204094e-04\n",
            "  85:  x = -0.99999237060547  err = 5.340506e-05\n",
            "  84:  x = -1.00001144409180  err = 8.011021e-05\n",
            "  83:  x = -1.00000190734863  err = 1.335148e-05\n",
            "  82:  x = -0.99999713897705  err = 2.002706e-05\n",
            "  81:  x = -0.99999952316284  err = 3.337857e-06\n",
            "  80:  x = -1.00000071525574  err = 5.006796e-06\n",
            "  79:  x = -1.00000011920929  err = 8.344652e-07\n",
            "  78:  x = -0.99999982118607  err = 1.251697e-06\n",
            "  77:  x = -0.99999997019768  err = 2.086162e-07\n",
            "  76:  x = -1.00000004470348  err = 3.129244e-07\n",
            "  75:  x = -1.00000000745058  err = 5.215407e-08\n",
            "  74:  x = -0.99999998882413  err = 7.823109e-08\n",
            "  73:  x = -0.99999999813735  err = 1.303852e-08\n",
            "  72:  x = -1.00000000279397  err = 1.955777e-08\n",
            "  71:  x = -1.00000000046566  err = 3.259629e-09\n",
            "  70:  x = -0.99999999930151  err = 4.889444e-09\n",
            "  69:  x = -0.99999999988358  err = 8.149073e-10\n",
            "  68:  x = -1.00000000017462  err = 1.222361e-09\n",
            "  67:  x = -1.00000000002910  err = 2.037268e-10\n",
            "  66:  x = -0.99999999995634  err = 3.055902e-10\n",
            "  65:  x = -0.99999999999272  err = 5.093170e-11\n"
          ]
        },
        {
          "data": {
            "text/plain": [
              "-0.999999999992724"
            ]
          },
          "execution_count": 6,
          "metadata": {},
          "output_type": "execute_result"
        }
      ],
      "source": [
        "def print_err(iter,err,**kwargs):\n",
        "    x = kwargs['x'] if 'x' in kwargs.keys() else kwargs['x0']\n",
        "    print('{:4d}:  x = {:17.14f}  err = {:8.6e}'.format(iter,x,err))\n",
        "\n",
        "print('Bisection method')\n",
        "bisection(f,a=-3,b=-0.5,callback=print_err,tol=1e-10)"
      ]
    }
  ],
  "metadata": {
    "celltoolbar": "Slideshow",
    "date": 1612589584.717071,
    "download_nb": false,
    "filename": "13_bisections_newton.rst",
    "filename_with_path": "13_bisections_newton",
    "kernelspec": {
      "display_name": "base",
      "language": "python",
      "name": "python3"
    },
    "language_info": {
      "codemirror_mode": {
        "name": "ipython",
        "version": 3
      },
      "file_extension": ".py",
      "mimetype": "text/x-python",
      "name": "python",
      "nbconvert_exporter": "python",
      "pygments_lexer": "ipython3",
      "version": "3.11.4"
    },
    "title": "Foundations of Computational Economics #13"
  },
  "nbformat": 4,
  "nbformat_minor": 4
}
