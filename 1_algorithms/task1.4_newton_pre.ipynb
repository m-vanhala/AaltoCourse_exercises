{
  "cells": [
    {
      "cell_type": "markdown",
      "id": "359a7deb",
      "metadata": {},
      "source": [
        "# Task 1.3 Newton-Raphson method\n",
        "\n",
        "1. Implement the Newton-Raphson method for finding roots of a continuous function\n",
        "2. Run the example to demonstrate the work of the algorithm\n",
        "3. Using the callback feature, display the relative errors on each iteration\n",
        "4. Compare convergence rate to the bisection method"
      ]
    },
    {
      "cell_type": "code",
      "execution_count": 16,
      "id": "5233441b",
      "metadata": {},
      "outputs": [],
      "source": [
        "def newton(fun, grad, x0, tol=1e-6, maxiter=100, callback=None):\n",
        "  '''Newton method for solving equation f(x)=0\n",
        "    with given tolerance and number of iterations.\n",
        "    Callback function is invoked at each iteration if given.\n",
        "    '''\n",
        "  err = 5 # doesn't matter in the beginning\n",
        "  while err > tol and maxiter > 0:\n",
        "    maxiter -= 1\n",
        "    err = abs(fun(x0))\n",
        "    x1 = x0 - fun(x0)/grad(x0)\n",
        "    x0 = x1 # update for next iteration\n",
        "    if callback != None: \n",
        "      callback(err=err,x0=x0,x1=x1,iter=maxiter)\n",
        "  return x0"
      ]
    },
    {
      "cell_type": "code",
      "execution_count": 17,
      "id": "58ae1013",
      "metadata": {},
      "outputs": [
        {
          "name": "stdout",
          "output_type": "stream",
          "text": [
            "Solution is x=-1.000, f(x)=0.000000000000\n"
          ]
        }
      ],
      "source": [
        "f = lambda x: -4*x**3+5*x+1\n",
        "g = lambda x: -12*x**2+5\n",
        "x = newton(f,g,x0=-2.5,maxiter=70)\n",
        "print('Solution is x=%1.3f, f(x)=%1.12f' % (x,f(x)))"
      ]
    },
    {
      "cell_type": "markdown",
      "id": "ff20bb33",
      "metadata": {},
      "source": [
        "## Rate of convergence\n",
        "\n",
        "- How fast does a solution method converge on the root of the equation?  \n",
        "- Rate of convergence = the rate of decrease of the bias (difference between current guess and the solution)  \n",
        "- Can be approximated by the rate of decrease of the error in the stopping criterion  "
      ]
    },
    {
      "cell_type": "code",
      "execution_count": 20,
      "id": "86823b18",
      "metadata": {},
      "outputs": [
        {
          "name": "stdout",
          "output_type": "stream",
          "text": [
            "Newton method\n",
            "  99:  x = -1.77142857142857  err = 5.100000e+01\n",
            "  98:  x = -1.33114944950557  err = 1.437754e+01\n",
            "  97:  x = -1.09877514383983  err = 3.779221e+00\n",
            "  96:  x = -1.01315263007170  err = 8.123592e-01\n",
            "  95:  x = -1.00028616796687  err = 9.415341e-02\n",
            "  94:  x = -1.00000014027560  err = 2.004159e-03\n",
            "  93:  x = -1.00000000000003  err = 9.819294e-07\n",
            "  92:  x = -1.00000000000000  err = 2.362555e-13\n"
          ]
        },
        {
          "data": {
            "text/plain": [
              "-1.0"
            ]
          },
          "execution_count": 20,
          "metadata": {},
          "output_type": "execute_result"
        }
      ],
      "source": [
        "def print_err(iter,err,**kwargs):\n",
        "    x = kwargs['x'] if 'x' in kwargs.keys() else kwargs['x0']\n",
        "    print('{:4d}:  x = {:17.14f}  err = {:8.6e}'.format(iter,x,err))\n",
        "\n",
        "print('Newton method')\n",
        "newton(f,g,x0=-2.5,callback=print_err,tol=1e-10)\n",
        "\n",
        "# a much faster convergence rate than with bisection"
      ]
    }
  ],
  "metadata": {
    "kernelspec": {
      "display_name": "base",
      "language": "python",
      "name": "python3"
    },
    "language_info": {
      "codemirror_mode": {
        "name": "ipython",
        "version": 3
      },
      "file_extension": ".py",
      "mimetype": "text/x-python",
      "name": "python",
      "nbconvert_exporter": "python",
      "pygments_lexer": "ipython3",
      "version": "3.11.4"
    }
  },
  "nbformat": 4,
  "nbformat_minor": 5
}
