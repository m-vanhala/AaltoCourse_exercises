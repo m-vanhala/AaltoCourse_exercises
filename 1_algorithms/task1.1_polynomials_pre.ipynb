{
  "cells": [
    {
      "cell_type": "markdown",
      "metadata": {},
      "source": [
        "# Task 1.1 Computing polynomials\n",
        "\n",
        "1. Copy the code from the lecture to create a function with an additional parameter `algorithm`: if \"fast\" is passed the function should perform fast polynomial computation\n",
        "\n",
        "2. Time the two algorithms using the following *magic* commands in a separate cell\n",
        "\n",
        "```python\n",
        "@@timeit <options> <setup command>\n",
        "all lines of code in the cell\n",
        "to be timed together\n",
        "```\n",
        "\n",
        "3. How can you make the difference between the two algorithm larger?"
      ]
    },
    {
      "cell_type": "markdown",
      "metadata": {
        "slideshow": {
          "slide_type": "slide"
        }
      },
      "source": [
        "#### Background on timing function evaluation\n",
        "\n",
        "Several ways to measure run time in python\n",
        "\n",
        "- **time** module  \n",
        "- **timeit** module (for small snippets)  \n",
        "- profiles (**profile** and **cProfile**, for large codes)  \n",
        "\n",
        "In Jupyter Notebooks we can use a **magic function** `timeit` to time separate line or the whole jupyter notebook cell\n",
        "\n",
        "```python\n",
        "@timeit <options> <line of code to be timed>\n",
        "```\n",
        "\n",
        "```python\n",
        "@@timeit <options> <setup command>\n",
        "# all lines of code in the cell\n",
        "# to be timed together\n",
        "```\n",
        "\n",
        "[See here documentation on @timeit](https://ipython.readthedocs.io/en/stable/interactive/magics.html?highlight=timeit#magic-timeit)"
      ]
    },
    {
      "cell_type": "code",
      "execution_count": 2,
      "metadata": {},
      "outputs": [],
      "source": [
        "def calc_polynomial(qs=[0.,], x=0.0, algorithm='fast'):\n",
        "  '''Evaluates the polynomial given by coefficients qs at given x.\n",
        "  First coefficient qs[0] is a constant, last coefficient is for highest power.\n",
        "  '''\n",
        "  # Your code here\n",
        "  if algorithm == 'fast':\n",
        "    res, xpw = qs[0], x  # init result and power of x\n",
        "    for i in range(1,len(qs)):  # start with second coefficient\n",
        "      res += xpw * qs[i]\n",
        "      xpw *= x\n",
        "    return res \n",
        "  elif algorithm == 'slow':\n",
        "    res=0.0\n",
        "    for k in range(len(qs)):\n",
        "      xpw = x**k\n",
        "      res += qs[k] * xpw\n",
        "    return res "
      ]
    },
    {
      "cell_type": "code",
      "execution_count": 12,
      "metadata": {
        "hide-output": false,
        "slideshow": {
          "slide_type": "slide"
        }
      },
      "outputs": [
        {
          "name": "stdout",
          "output_type": "stream",
          "text": [
            "The slowest run took 4.26 times longer than the fastest. This could mean that an intermediate result is being cached.\n",
            "28 µs ± 14.6 µs per loop (mean ± std. dev. of 100 runs, 100 loops each)\n"
          ]
        }
      ],
      "source": [
        "%%timeit -n100 -r100 qs = [1,]*50\n",
        "calc_polynomial(qs,150,'slow')"
      ]
    },
    {
      "cell_type": "code",
      "execution_count": 13,
      "metadata": {
        "hide-output": false,
        "slideshow": {
          "slide_type": "fragment"
        }
      },
      "outputs": [
        {
          "name": "stdout",
          "output_type": "stream",
          "text": [
            "The slowest run took 10.29 times longer than the fastest. This could mean that an intermediate result is being cached.\n",
            "12.5 µs ± 8.32 µs per loop (mean ± std. dev. of 100 runs, 100 loops each)\n"
          ]
        }
      ],
      "source": [
        "%%timeit -n100 -r100 qs = [1,]*50\n",
        "calc_polynomial(qs,150,'fast')"
      ]
    },
    {
      "cell_type": "markdown",
      "metadata": {},
      "source": [
        "1 μs = ? sec\n",
        "1 ns = ? sec"
      ]
    }
  ],
  "metadata": {
    "celltoolbar": "Slideshow",
    "date": 1612589584.605089,
    "download_nb": false,
    "filename": "09_algorithms.rst",
    "filename_with_path": "09_algorithms",
    "kernelspec": {
      "display_name": "base",
      "language": "python",
      "name": "python3"
    },
    "language_info": {
      "codemirror_mode": {
        "name": "ipython",
        "version": 3
      },
      "file_extension": ".py",
      "mimetype": "text/x-python",
      "name": "python",
      "nbconvert_exporter": "python",
      "pygments_lexer": "ipython3",
      "version": "3.11.4"
    },
    "title": "Foundations of Computational Economics #9"
  },
  "nbformat": 4,
  "nbformat_minor": 4
}
